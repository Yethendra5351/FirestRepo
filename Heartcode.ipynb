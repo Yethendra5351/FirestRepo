{
  "nbformat": 4,
  "nbformat_minor": 0,
  "metadata": {
    "colab": {
      "provenance": [],
      "authorship_tag": "ABX9TyPlevMIbowaft3/GcZFfheU",
      "include_colab_link": true
    },
    "kernelspec": {
      "name": "python3",
      "display_name": "Python 3"
    },
    "language_info": {
      "name": "python"
    }
  },
  "cells": [
    {
      "cell_type": "markdown",
      "metadata": {
        "id": "view-in-github",
        "colab_type": "text"
      },
      "source": [
        "<a href=\"https://colab.research.google.com/github/Yethendra5351/FirestRepo/blob/master/Heartcode.ipynb\" target=\"_parent\"><img src=\"https://colab.research.google.com/assets/colab-badge.svg\" alt=\"Open In Colab\"/></a>"
      ]
    },
    {
      "cell_type": "code",
      "execution_count": 34,
      "metadata": {
        "colab": {
          "base_uri": "https://localhost:8080/"
        },
        "id": "YABqqingocyt",
        "outputId": "cf0c0b75-9102-45ec-9e6c-5a0c8dc7e0e7"
      },
      "outputs": [
        {
          "output_type": "stream",
          "name": "stdout",
          "text": [
            "                                                            \n",
            "                                                            \n",
            "                                                            \n",
            "                Devil@Dar           arlingDev               \n",
            "            ingDevil@DarlingD   l@DarlingDevil@Da           \n",
            "          lingDevil@DarlingDevil@DarlingDevil@Darli         \n",
            "         lingDevil@DarlingDevil@DarlingDevil@Darling        \n",
            "        lingDevil@DarlingDevil@DarlingDevil@DarlingDe       \n",
            "        ingDevil@DarlingDevil@DarlingDevil@DarlingDev       \n",
            "        ngDevil@DarlingDevil@DarlingDevil@DarlingDevi       \n",
            "        gDevil@DarlingDevil@DarlingDevil@DarlingDevil       \n",
            "        Devil@DarlingDevil@DarlingDevil@DarlingDevil@       \n",
            "        evil@DarlingDevil@DarlingDevil@DarlingDevil@D       \n",
            "         il@DarlingDevil@DarlingDevil@DarlingDevil@D        \n",
            "          @DarlingDevil@DarlingDevil@DarlingDevil@D         \n",
            "          DarlingDevil@DarlingDevil@DarlingDevil@Da         \n",
            "            lingDevil@DarlingDevil@DarlingDevil@D           \n",
            "             ngDevil@DarlingDevil@DarlingDevil@D            \n",
            "              Devil@DarlingDevil@DarlingDevil@D             \n",
            "                il@DarlingDevil@DarlingDevil@               \n",
            "                  DarlingDevil@DarlingDevil                 \n",
            "                    lingDevil@DarlingDevi                   \n",
            "                       Devil@DarlingDe                      \n",
            "                          l@Darling                         \n",
            "                             rli                            \n",
            "                              i                             \n",
            "                                                            \n",
            "                                                            \n",
            "                                                            \n",
            "                                                            \n"
          ]
        }
      ],
      "source": [
        "print('\\n'.join\n",
        "([''.join\n",
        "([('Devil@Darling'[(x-y)%13]\n",
        "if ((x*0.05)**2+(y*0.1)**2-1)\n",
        "**3-(x*0.05)**2*(y*0.1)\n",
        "**3<=0 else' ')\n",
        "for x in range(-30,30)])\n",
        "for y in range(15,-15,-1)]))"
      ]
    },
    {
      "cell_type": "code",
      "source": [],
      "metadata": {
        "id": "uL0rC7FPs468"
      },
      "execution_count": null,
      "outputs": []
    }
  ]
}