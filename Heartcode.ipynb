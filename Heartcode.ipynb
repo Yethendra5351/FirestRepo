{
  "nbformat": 4,
  "nbformat_minor": 0,
  "metadata": {
    "colab": {
      "provenance": [],
      "authorship_tag": "ABX9TyOC6xVFBXTfVsnfYSqU4sAD",
      "include_colab_link": true
    },
    "kernelspec": {
      "name": "python3",
      "display_name": "Python 3"
    },
    "language_info": {
      "name": "python"
    }
  },
  "cells": [
    {
      "cell_type": "markdown",
      "metadata": {
        "id": "view-in-github",
        "colab_type": "text"
      },
      "source": [
        "<a href=\"https://colab.research.google.com/github/Yethendra5351/FirestRepo/blob/master/Heartcode.ipynb\" target=\"_parent\"><img src=\"https://colab.research.google.com/assets/colab-badge.svg\" alt=\"Open In Colab\"/></a>"
      ]
    },
    {
      "cell_type": "code",
      "execution_count": null,
      "metadata": {
        "colab": {
          "base_uri": "https://localhost:8080/"
        },
        "id": "YABqqingocyt",
        "outputId": "9d3dd7b9-aa88-4ac6-8029-514b98c77e31"
      },
      "outputs": [
        {
          "output_type": "stream",
          "name": "stdout",
          "text": [
            "                                                            \n",
            "                                                            \n",
            "                                                            \n",
            "                Daddyylov           oveyouDad               \n",
            "            youDaddyyloveyouD   yyloveyouDaddyylo           \n",
            "          eyouDaddyyloveyouDaddyyloveyouDaddyylovey         \n",
            "         eyouDaddyyloveyouDaddyyloveyouDaddyyloveyou        \n",
            "        eyouDaddyyloveyouDaddyyloveyouDaddyyloveyouDa       \n",
            "        youDaddyyloveyouDaddyyloveyouDaddyyloveyouDad       \n",
            "        ouDaddyyloveyouDaddyyloveyouDaddyyloveyouDadd       \n",
            "        uDaddyyloveyouDaddyyloveyouDaddyyloveyouDaddy       \n",
            "        DaddyyloveyouDaddyyloveyouDaddyyloveyouDaddyy       \n",
            "        addyyloveyouDaddyyloveyouDaddyyloveyouDaddyyl       \n",
            "         dyyloveyouDaddyyloveyouDaddyyloveyouDaddyyl        \n",
            "          yloveyouDaddyyloveyouDaddyyloveyouDaddyyl         \n",
            "          loveyouDaddyyloveyouDaddyyloveyouDaddyylo         \n",
            "            eyouDaddyyloveyouDaddyyloveyouDaddyyl           \n",
            "             ouDaddyyloveyouDaddyyloveyouDaddyyl            \n",
            "              DaddyyloveyouDaddyyloveyouDaddyyl             \n",
            "                dyyloveyouDaddyyloveyouDaddyy               \n",
            "                  loveyouDaddyyloveyouDaddy                 \n",
            "                    eyouDaddyyloveyouDadd                   \n",
            "                       DaddyyloveyouDa                      \n",
            "                          yyloveyou                         \n",
            "                             vey                            \n",
            "                              y                             \n",
            "                                                            \n",
            "                                                            \n",
            "                                                            \n",
            "                                                            \n"
          ]
        }
      ],
      "source": [
        "print('\\n'.join\n",
        "([''.join\n",
        ([('Devil@Darling'[(x-y)%13]
        "if ((x*0.05)**2+(y*0.1)**2-1)\n",
        "**3-(x*0.05)**2*(y*0.1)\n",
        "**3<=0 else' ')\n",
        "for x in range(-30,30)])\n",
        "for y in range(15,-15,-1)]))"
      ]
    },
    {
      "cell_type": "code",
      "source": [],
      "metadata": {
        "id": "uL0rC7FPs468"
      },
      "execution_count": null,
      "outputs": []
    }
  ]
}
